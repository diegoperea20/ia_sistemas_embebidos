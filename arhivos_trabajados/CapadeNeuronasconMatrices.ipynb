{
  "nbformat": 4,
  "nbformat_minor": 0,
  "metadata": {
    "colab": {
      "name": "CapadeNeuronasconMatrices.ipynb",
      "provenance": []
    },
    "kernelspec": {
      "name": "python3",
      "display_name": "Python 3"
    }
  },
  "cells": [
    {
      "cell_type": "code",
      "metadata": {
        "id": "yWv3Z8ndmgNB"
      },
      "source": [
        "import numpy as np"
      ],
      "execution_count": 1,
      "outputs": []
    },
    {
      "cell_type": "markdown",
      "metadata": {
        "id": "W-298k5bmmKK"
      },
      "source": [
        "**Procesamiento de un Neurona Artificial**\n",
        "\n",
        "Crear el vector de entrada X"
      ]
    },
    {
      "cell_type": "code",
      "metadata": {
        "id": "2plWCcXQmpsa",
        "colab": {
          "base_uri": "https://localhost:8080/"
        },
        "outputId": "3165b303-bfa0-4b64-f254-77a4de0af350"
      },
      "source": [
        "X=np.array([[1],[0.5],[-0.6]])\n",
        "print(X)"
      ],
      "execution_count": 2,
      "outputs": [
        {
          "output_type": "stream",
          "name": "stdout",
          "text": [
            "[[ 1. ]\n",
            " [ 0.5]\n",
            " [-0.6]]\n"
          ]
        }
      ]
    },
    {
      "cell_type": "markdown",
      "metadata": {
        "id": "4yfKJqwjnhX_"
      },
      "source": [
        "Crear vector de pesos W"
      ]
    },
    {
      "cell_type": "code",
      "metadata": {
        "id": "2asiCG0WnmPv",
        "colab": {
          "base_uri": "https://localhost:8080/"
        },
        "outputId": "9c406822-ed45-4b08-85d7-07b9be820ab2"
      },
      "source": [
        "W=np.array([[1.0],[-0.7],[-1.0]])\n",
        "print(W)"
      ],
      "execution_count": 3,
      "outputs": [
        {
          "output_type": "stream",
          "name": "stdout",
          "text": [
            "[[ 1. ]\n",
            " [-0.7]\n",
            " [-1. ]]\n"
          ]
        }
      ]
    },
    {
      "cell_type": "markdown",
      "metadata": {
        "id": "r9fILvOcnvQO"
      },
      "source": [
        "Calculo de la neta"
      ]
    },
    {
      "cell_type": "code",
      "metadata": {
        "id": "dJ6XL0VIoBKg",
        "colab": {
          "base_uri": "https://localhost:8080/"
        },
        "outputId": "9b7d4ba6-9bc3-4449-d47b-4d3eafa5ed0a"
      },
      "source": [
        "Neta=(np.sum(np.multiply(X,W)))\n",
        "print(Neta)"
      ],
      "execution_count": 4,
      "outputs": [
        {
          "output_type": "stream",
          "name": "stdout",
          "text": [
            "1.25\n"
          ]
        }
      ]
    },
    {
      "cell_type": "markdown",
      "metadata": {
        "id": "i-zt-6HLpQmw"
      },
      "source": [
        "Function de activacion sigmoidal"
      ]
    },
    {
      "cell_type": "code",
      "metadata": {
        "id": "gcrWV8zlpTjV",
        "colab": {
          "base_uri": "https://localhost:8080/"
        },
        "outputId": "6d41e24e-fb3e-4f78-f87f-95824416f735"
      },
      "source": [
        "Y=1.0/(1+np.exp(-Neta))\n",
        "print(Y)"
      ],
      "execution_count": 5,
      "outputs": [
        {
          "output_type": "stream",
          "name": "stdout",
          "text": [
            "0.7772998611746911\n"
          ]
        }
      ]
    },
    {
      "cell_type": "markdown",
      "metadata": {
        "id": "aBd2xfmHrSa2"
      },
      "source": [
        "**Procesamiento de una capa de Neuronas**\n",
        "\n",
        "W y B matricial, Wp(4x3), B(3x1) y X(4x1)"
      ]
    },
    {
      "cell_type": "code",
      "metadata": {
        "id": "bMomZNPHrUpu",
        "colab": {
          "base_uri": "https://localhost:8080/"
        },
        "outputId": "57dc9722-5562-4350-fd55-f3f179d4d58b"
      },
      "source": [
        "Wp=np.array([[1.5,0.5, -0.5],[0.7,-0.8, 1.5],[-1.0,1.2, 0.3],[1.0,0.2,-0.3]])\n",
        "print(Wp)\n",
        "B=np.array([[0.7],[-0.3],[-0.5]])\n",
        "print(B)\n",
        "X=np.array([[1],[0.5],[-0.5],[1]])\n",
        "print(X)"
      ],
      "execution_count": 6,
      "outputs": [
        {
          "output_type": "stream",
          "name": "stdout",
          "text": [
            "[[ 1.5  0.5 -0.5]\n",
            " [ 0.7 -0.8  1.5]\n",
            " [-1.   1.2  0.3]\n",
            " [ 1.   0.2 -0.3]]\n",
            "[[ 0.7]\n",
            " [-0.3]\n",
            " [-0.5]]\n",
            "[[ 1. ]\n",
            " [ 0.5]\n",
            " [-0.5]\n",
            " [ 1. ]]\n"
          ]
        }
      ]
    },
    {
      "cell_type": "markdown",
      "metadata": {
        "id": "kRGf6l5Xr_c3"
      },
      "source": [
        "Neta matricial"
      ]
    },
    {
      "cell_type": "code",
      "metadata": {
        "id": "hJ5ZTXCasBv3",
        "colab": {
          "base_uri": "https://localhost:8080/"
        },
        "outputId": "795b0726-9292-4d3c-b711-7ace4921efe1"
      },
      "source": [
        "Neta=((np.matmul(np.transpose(Wp),X))+B)\n",
        "print(Neta)"
      ],
      "execution_count": 7,
      "outputs": [
        {
          "output_type": "stream",
          "name": "stdout",
          "text": [
            "[[ 4.05]\n",
            " [-0.6 ]\n",
            " [-0.7 ]]\n"
          ]
        }
      ]
    },
    {
      "cell_type": "markdown",
      "metadata": {
        "id": "HSdBMypDsoei"
      },
      "source": [
        "Salida Matricial"
      ]
    },
    {
      "cell_type": "code",
      "metadata": {
        "id": "FNoAHsoqsqJr",
        "colab": {
          "base_uri": "https://localhost:8080/"
        },
        "outputId": "cbc82746-479a-4154-b13c-9cf1a6dd2465"
      },
      "source": [
        "Y=1.0/(1+np.exp(-Neta))\n",
        "print(Y)"
      ],
      "execution_count": 8,
      "outputs": [
        {
          "output_type": "stream",
          "name": "stdout",
          "text": [
            "[[0.98287597]\n",
            " [0.35434369]\n",
            " [0.33181223]]\n"
          ]
        }
      ]
    }
  ]
}