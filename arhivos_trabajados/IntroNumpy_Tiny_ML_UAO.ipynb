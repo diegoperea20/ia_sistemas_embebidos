{
  "nbformat": 4,
  "nbformat_minor": 0,
  "metadata": {
    "colab": {
      "name": "IntroNumpy Tiny ML UAO.ipynb",
      "provenance": [],
      "collapsed_sections": []
    },
    "kernelspec": {
      "name": "python3",
      "display_name": "Python 3"
    }
  },
  "cells": [
    {
      "cell_type": "markdown",
      "metadata": {
        "id": "zRv7vHQVwer3"
      },
      "source": [
        "**Numpy**\n",
        "\n",
        "NumPy es una biblioteca para el lenguaje de programación Python, que agrega soporte para arreglos y matrices grandes y multidimensionales, junto con una gran colección de funciones matemáticas de alto nivel para operar en estos arreglos.\n",
        "\n",
        "Sitio web:\n",
        "[https://numpy.org/](https://numpy.org/)\n"
      ]
    },
    {
      "cell_type": "markdown",
      "source": [
        "En este notebook trabajaremos los conceptos básicos de numpy y algunas características del lenguaje Python en el ambiente de trabajo Colab "
      ],
      "metadata": {
        "id": "tRMq0_yZY5DD"
      }
    },
    {
      "cell_type": "code",
      "metadata": {
        "id": "WnWNwkoYza48"
      },
      "source": [
        "import numpy as np"
      ],
      "execution_count": 1,
      "outputs": []
    },
    {
      "cell_type": "markdown",
      "source": [
        "Python maneja de las sentencias de control usando sangrías"
      ],
      "metadata": {
        "id": "fXi_3ZbwZK3o"
      }
    },
    {
      "cell_type": "code",
      "metadata": {
        "id": "oC-Th2umFs9H",
        "colab": {
          "base_uri": "https://localhost:8080/"
        },
        "outputId": "36007b8d-f04e-4a04-9da9-21c9c1e0c156"
      },
      "source": [
        "for i in range(10):\n",
        "    print(i) #Comando dentro del for\n",
        "j=2*i # Comando fuera del for\n",
        "print(j)\n",
        "\n"
      ],
      "execution_count": 2,
      "outputs": [
        {
          "output_type": "stream",
          "name": "stdout",
          "text": [
            "0\n",
            "1\n",
            "2\n",
            "3\n",
            "4\n",
            "5\n",
            "6\n",
            "7\n",
            "8\n",
            "9\n",
            "18\n"
          ]
        }
      ]
    },
    {
      "cell_type": "markdown",
      "source": [
        "Creación de vectores con numpy"
      ],
      "metadata": {
        "id": "XV2gU8d0Zecj"
      }
    },
    {
      "cell_type": "code",
      "metadata": {
        "id": "B6y3ycbTzf3P",
        "outputId": "630572a4-9c89-4d95-b675-d81599c94ddd",
        "colab": {
          "base_uri": "https://localhost:8080/"
        }
      },
      "source": [
        "a=np.array([1,2,5])\n",
        "print(a)"
      ],
      "execution_count": 3,
      "outputs": [
        {
          "output_type": "stream",
          "name": "stdout",
          "text": [
            "[1 2 5]\n"
          ]
        }
      ]
    },
    {
      "cell_type": "code",
      "source": [
        "b=np.array(range(5))\n",
        "print(b)"
      ],
      "metadata": {
        "colab": {
          "base_uri": "https://localhost:8080/"
        },
        "id": "-IsN_hn2Avuh",
        "outputId": "e76e3b1e-5ca3-4992-b89e-52c9f7c04a52"
      },
      "execution_count": 4,
      "outputs": [
        {
          "output_type": "stream",
          "name": "stdout",
          "text": [
            "[0 1 2 3 4]\n"
          ]
        }
      ]
    },
    {
      "cell_type": "markdown",
      "source": [
        "Acceso a los elementos de un vector. En Python para acceder al el primer elemento se usa el índice cero"
      ],
      "metadata": {
        "id": "HAWB3f2bZkTV"
      }
    },
    {
      "cell_type": "code",
      "metadata": {
        "id": "wi3VcKJs0NAD",
        "outputId": "8620814d-63b5-4eb4-8924-f93398a6d4d1",
        "colab": {
          "base_uri": "https://localhost:8080/"
        }
      },
      "source": [
        "print(a[0]) # Primer elemento "
      ],
      "execution_count": 5,
      "outputs": [
        {
          "output_type": "stream",
          "name": "stdout",
          "text": [
            "1\n"
          ]
        }
      ]
    },
    {
      "cell_type": "code",
      "source": [
        "print(b[3]) # Cuarto elemento "
      ],
      "metadata": {
        "colab": {
          "base_uri": "https://localhost:8080/"
        },
        "id": "IFIaakYxBJQx",
        "outputId": "e834da66-d015-47dc-b5f6-38118c4c281e"
      },
      "execution_count": 6,
      "outputs": [
        {
          "output_type": "stream",
          "name": "stdout",
          "text": [
            "3\n"
          ]
        }
      ]
    },
    {
      "cell_type": "code",
      "source": [
        "print(b[-1]) # Acceso al último componente del vector"
      ],
      "metadata": {
        "colab": {
          "base_uri": "https://localhost:8080/"
        },
        "id": "K0BHuItvEPJf",
        "outputId": "e42c251a-d815-4bff-8abc-4ff4a568d327"
      },
      "execution_count": 7,
      "outputs": [
        {
          "output_type": "stream",
          "name": "stdout",
          "text": [
            "4\n"
          ]
        }
      ]
    },
    {
      "cell_type": "code",
      "source": [
        "print(b[-2]) # Acceso al penúltimo componente del vector"
      ],
      "metadata": {
        "colab": {
          "base_uri": "https://localhost:8080/"
        },
        "id": "LuAOcIPCEhbH",
        "outputId": "1b9fc337-24a0-464e-cad6-c250de75d74d"
      },
      "execution_count": 8,
      "outputs": [
        {
          "output_type": "stream",
          "name": "stdout",
          "text": [
            "3\n"
          ]
        }
      ]
    },
    {
      "cell_type": "code",
      "source": [
        "print(b[1:4]) #Accediendo a varios elementos de un vector"
      ],
      "metadata": {
        "colab": {
          "base_uri": "https://localhost:8080/"
        },
        "id": "LCNn684vEvQX",
        "outputId": "ad4c9ab3-ea76-4dd9-cecd-efcd32837875"
      },
      "execution_count": 9,
      "outputs": [
        {
          "output_type": "stream",
          "name": "stdout",
          "text": [
            "[1 2 3]\n"
          ]
        }
      ]
    },
    {
      "cell_type": "markdown",
      "source": [
        "Conociendo las dimensiones de un vector o arreglo"
      ],
      "metadata": {
        "id": "Je1VX2K3bSEN"
      }
    },
    {
      "cell_type": "code",
      "source": [
        "print(b.shape)"
      ],
      "metadata": {
        "colab": {
          "base_uri": "https://localhost:8080/"
        },
        "id": "nwuY6luJCmoX",
        "outputId": "3e862519-bf16-4781-b805-53b905866b94"
      },
      "execution_count": 10,
      "outputs": [
        {
          "output_type": "stream",
          "name": "stdout",
          "text": [
            "(5,)\n"
          ]
        }
      ]
    },
    {
      "cell_type": "markdown",
      "source": [
        "Redimensionando vectores en Python. Los vectores son arreglos de una dimensión.\n",
        "Para trabajar \"vectores\" fila y columna en Python hay que especificar dos dimensiones, es decir que técnicamente son matrices"
      ],
      "metadata": {
        "id": "raWg_wmHZ-kj"
      }
    },
    {
      "cell_type": "code",
      "source": [
        "bfila=b.reshape(1,5)  #Vector fila\n",
        "print(bfila.shape)"
      ],
      "metadata": {
        "colab": {
          "base_uri": "https://localhost:8080/"
        },
        "id": "-xWlIav5DP3_",
        "outputId": "ee4ba606-5697-46e9-eb59-ed64f5efcdc4"
      },
      "execution_count": 11,
      "outputs": [
        {
          "output_type": "stream",
          "name": "stdout",
          "text": [
            "(1, 5)\n"
          ]
        }
      ]
    },
    {
      "cell_type": "code",
      "source": [
        "bcol=b.reshape(5,1) #Vector columna\n",
        "print(bcol.shape)"
      ],
      "metadata": {
        "colab": {
          "base_uri": "https://localhost:8080/"
        },
        "id": "lcRgpqA8D0UI",
        "outputId": "079bd42f-47d6-4f67-d4c4-440338fd4202"
      },
      "execution_count": 12,
      "outputs": [
        {
          "output_type": "stream",
          "name": "stdout",
          "text": [
            "(5, 1)\n"
          ]
        }
      ]
    },
    {
      "cell_type": "markdown",
      "source": [
        "Creación de una matriz"
      ],
      "metadata": {
        "id": "GMBSIFrFbW1B"
      }
    },
    {
      "cell_type": "code",
      "metadata": {
        "id": "d3gKqYrzznMH",
        "outputId": "233c0e15-735b-461f-82f3-f1607aae288b",
        "colab": {
          "base_uri": "https://localhost:8080/"
        }
      },
      "source": [
        "b=np.array([(1,2,3),(4,5,6)])\n",
        "print(b)\n",
        "print(b.shape)"
      ],
      "execution_count": 13,
      "outputs": [
        {
          "output_type": "stream",
          "name": "stdout",
          "text": [
            "[[1 2 3]\n",
            " [4 5 6]]\n",
            "(2, 3)\n"
          ]
        }
      ]
    },
    {
      "cell_type": "code",
      "source": [
        "c=np.array([(7,8,9),(10,11,12)])\n",
        "print(c)\n",
        "print(c.shape)"
      ],
      "metadata": {
        "colab": {
          "base_uri": "https://localhost:8080/"
        },
        "id": "5PMLwm53hiym",
        "outputId": "96d843d7-8d5a-43e4-935b-ecb7641ad43f"
      },
      "execution_count": 14,
      "outputs": [
        {
          "output_type": "stream",
          "name": "stdout",
          "text": [
            "[[ 7  8  9]\n",
            " [10 11 12]]\n",
            "(2, 3)\n"
          ]
        }
      ]
    },
    {
      "cell_type": "markdown",
      "source": [
        "Concatenando matrices de manera vertical"
      ],
      "metadata": {
        "id": "x3_pRVr9baNv"
      }
    },
    {
      "cell_type": "code",
      "metadata": {
        "id": "HEj2n4sR0k3h",
        "outputId": "11e24cfc-a5c3-4246-a472-08f245d0f1ba",
        "colab": {
          "base_uri": "https://localhost:8080/"
        }
      },
      "source": [
        "e=np.vstack((b,c))\n",
        "print(e)\n",
        "print(e.shape)"
      ],
      "execution_count": 15,
      "outputs": [
        {
          "output_type": "stream",
          "name": "stdout",
          "text": [
            "[[ 1  2  3]\n",
            " [ 4  5  6]\n",
            " [ 7  8  9]\n",
            " [10 11 12]]\n",
            "(4, 3)\n"
          ]
        }
      ]
    },
    {
      "cell_type": "markdown",
      "source": [
        "Concatenando matrices de manera horizontal"
      ],
      "metadata": {
        "id": "9-sJ-tOmbceR"
      }
    },
    {
      "cell_type": "code",
      "source": [
        "e2=np.hstack((b,c))\n",
        "print(e2)\n",
        "print(e2.shape)"
      ],
      "metadata": {
        "colab": {
          "base_uri": "https://localhost:8080/"
        },
        "id": "7bztpPH8HTq4",
        "outputId": "d526bf4c-a195-4041-c519-10ac731a11b9"
      },
      "execution_count": 16,
      "outputs": [
        {
          "output_type": "stream",
          "name": "stdout",
          "text": [
            "[[ 1  2  3  7  8  9]\n",
            " [ 4  5  6 10 11 12]]\n",
            "(2, 6)\n"
          ]
        }
      ]
    },
    {
      "cell_type": "markdown",
      "source": [
        "Creación de un arreglo cúbico a partir de dos matrices"
      ],
      "metadata": {
        "id": "J7cKNUL2exGM"
      }
    },
    {
      "cell_type": "code",
      "metadata": {
        "id": "AKrSFJ3D3UQs",
        "colab": {
          "base_uri": "https://localhost:8080/"
        },
        "outputId": "d17cbca1-7607-4b8e-c8d1-b11a60b08fda"
      },
      "source": [
        "f = np.array((b,c))\n",
        "print(f)\n",
        "print(f.shape)"
      ],
      "execution_count": 17,
      "outputs": [
        {
          "output_type": "stream",
          "name": "stdout",
          "text": [
            "[[[ 1  2  3]\n",
            "  [ 4  5  6]]\n",
            "\n",
            " [[ 7  8  9]\n",
            "  [10 11 12]]]\n",
            "(2, 2, 3)\n"
          ]
        }
      ]
    },
    {
      "cell_type": "markdown",
      "source": [
        "Creación de arreglos multidimensioanles"
      ],
      "metadata": {
        "id": "LDqMI2Cje9Y5"
      }
    },
    {
      "cell_type": "code",
      "metadata": {
        "id": "uhZm3IG-5HRo",
        "colab": {
          "base_uri": "https://localhost:8080/"
        },
        "outputId": "3bb92d9c-f386-4f9f-ec9f-776055ccd9f0"
      },
      "source": [
        "a=np.zeros((10,32,32,3))\n",
        "b=np.zeros((10,32,32,3))\n",
        "c=np.vstack((a,b))\n",
        "print(c.shape)\n",
        "d = np.array((a,b))\n",
        "print(d.shape)"
      ],
      "execution_count": 18,
      "outputs": [
        {
          "output_type": "stream",
          "name": "stdout",
          "text": [
            "(20, 32, 32, 3)\n",
            "(2, 10, 32, 32, 3)\n"
          ]
        }
      ]
    }
  ]
}