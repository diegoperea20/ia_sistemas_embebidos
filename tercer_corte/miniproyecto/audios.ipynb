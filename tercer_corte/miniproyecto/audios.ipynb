{
  "nbformat": 4,
  "nbformat_minor": 0,
  "metadata": {
    "colab": {
      "provenance": []
    },
    "kernelspec": {
      "name": "python3",
      "display_name": "Python 3"
    },
    "language_info": {
      "name": "python"
    }
  },
  "cells": [
    {
      "cell_type": "code",
      "metadata": {
        "colab": {
          "base_uri": "https://localhost:8080/"
        },
        "id": "iOqSNjCvzbQI",
        "outputId": "45df3dfc-b6a4-4950-9c71-a468a6f9e335"
      },
      "source": [
        "from google.colab import drive\n",
        "drive.mount('/content/gdrive')"
      ],
      "execution_count": null,
      "outputs": [
        {
          "output_type": "stream",
          "name": "stdout",
          "text": [
            "Mounted at /content/gdrive\n"
          ]
        }
      ]
    },
    {
      "cell_type": "code",
      "metadata": {
        "id": "n1r86zoQ-S00"
      },
      "source": [
        "# Se cargan las diferentes dependencias necesarias\n",
        "import tensorflow as tf\n",
        "from tensorflow import keras\n",
        "import pandas as pd\n",
        "import numpy as np\n",
        "from sklearn.preprocessing import StandardScaler\n",
        "from sklearn.preprocessing import MinMaxScaler\n",
        "from sklearn.model_selection import train_test_split\n",
        "import matplotlib.pyplot as plt\n",
        "import matplotlib as mpl\n",
        "\n",
        "from IPython import display"
      ],
      "execution_count": null,
      "outputs": []
    },
    {
      "cell_type": "code",
      "source": [
        "def load_wav_16k_mono(filename):\n",
        "    # Load encoded wav file\n",
        "    file_contents = tf.io.read_file(filename)\n",
        "    # Decode wav (tensors by channels) \n",
        "    wav, sample_rate = tf.audio.decode_wav(file_contents, desired_channels=1)\n",
        "    # Removes trailing axis\n",
        "    wav = tf.squeeze(wav, axis=-1)\n",
        "   # sample_rate = tf.cast(sample_rate, dtype=tf.int64)\n",
        "    # Goes from 44100Hz to 16000hz - amplitude of the audio signal\n",
        "   # wav = tfio.audio.resample(wav, rate_in=sample_rate, rate_out=16000)\n",
        "    return wav"
      ],
      "metadata": {
        "id": "FZqZII6AolyK"
      },
      "execution_count": null,
      "outputs": []
    },
    {
      "cell_type": "code",
      "source": [
        "def preprocess(wave): \n",
        "    #wav = wave[:32000]\n",
        "    wav = wave[:16000]\n",
        "    #zero_padding = tf.zeros([48000] - tf.shape(wav), dtype=tf.float32)\n",
        "   # wav = tf.concat([zero_padding, wav],0)\n",
        "    spectrogram = tf.signal.stft(wav, frame_length=255, frame_step=128)\n",
        "    spectrogram = tf.abs(spectrogram)\n",
        "    return spectrogram"
      ],
      "metadata": {
        "id": "rD70qVSYsREE"
      },
      "execution_count": null,
      "outputs": []
    },
    {
      "cell_type": "code",
      "source": [
        "# Se cargan los diferentes archivos *.json que se van a usar en el proceso\n",
        "# de entrenamiento\n",
        "import os\n",
        "directory = '/content/gdrive/MyDrive/Colab Notebooks/Datos/Comandos1/training/'\n",
        "files = os.listdir(directory)\n",
        "files.sort() \n",
        "cantidadFiles = len(files)\n",
        "# Variable donde se almacenaron los datos leidos de los archivos *.json\n",
        "#Datos=np.zeros((cantidadFiles*624,3))\n",
        "Datos=np.zeros((cantidadFiles,124,129))\n",
        "i = 0\n",
        "for file in files:\n",
        "  RutaFile=directory + file\n",
        "  wave = load_wav_16k_mono(RutaFile)\n",
        "  espectrograma= preprocess(wave)\n",
        "  Datos[i,:,:]=espectrograma\n",
        "  i+=1\n",
        "print(Datos.shape)\n",
        "Xtrain=tf.expand_dims(Datos, axis=3)\n",
        "print(Xtrain.shape)"
      ],
      "metadata": {
        "colab": {
          "base_uri": "https://localhost:8080/"
        },
        "id": "RnCSR58VRKAr",
        "outputId": "7436ff81-4b8c-44cc-a13e-025034ec02da"
      },
      "execution_count": null,
      "outputs": [
        {
          "output_type": "stream",
          "name": "stdout",
          "text": [
            "(146, 124, 129)\n",
            "(146, 124, 129, 1)\n"
          ]
        }
      ]
    },
    {
      "cell_type": "code",
      "metadata": {
        "colab": {
          "base_uri": "https://localhost:8080/"
        },
        "id": "-dkMyp86K6Mp",
        "outputId": "2b9b8442-7674-4ff4-d79c-f86990d5dc34"
      },
      "source": [
        "YtrainIni=np.zeros((146,1))\n",
        "for i in range(26):\n",
        "    YtrainIni[i]=0\n",
        "\n",
        "for i in range(26,63):\n",
        "    YtrainIni[i]=1\n",
        "\n",
        "for i in range(63,135):\n",
        "    YtrainIni[i]=2\n",
        "\n",
        "for i in range(135,140):\n",
        "    YtrainIni[i]=3\n",
        "\n",
        "for i in range(140,146):\n",
        "    YtrainIni[i]=4\n",
        "\n",
        "print(YtrainIni)"
      ],
      "execution_count": null,
      "outputs": [
        {
          "output_type": "stream",
          "name": "stdout",
          "text": [
            "[[0.]\n",
            " [0.]\n",
            " [0.]\n",
            " [0.]\n",
            " [0.]\n",
            " [0.]\n",
            " [0.]\n",
            " [0.]\n",
            " [0.]\n",
            " [0.]\n",
            " [0.]\n",
            " [0.]\n",
            " [0.]\n",
            " [0.]\n",
            " [0.]\n",
            " [0.]\n",
            " [0.]\n",
            " [0.]\n",
            " [0.]\n",
            " [0.]\n",
            " [0.]\n",
            " [0.]\n",
            " [0.]\n",
            " [0.]\n",
            " [0.]\n",
            " [0.]\n",
            " [1.]\n",
            " [1.]\n",
            " [1.]\n",
            " [1.]\n",
            " [1.]\n",
            " [1.]\n",
            " [1.]\n",
            " [1.]\n",
            " [1.]\n",
            " [1.]\n",
            " [1.]\n",
            " [1.]\n",
            " [1.]\n",
            " [1.]\n",
            " [1.]\n",
            " [1.]\n",
            " [1.]\n",
            " [1.]\n",
            " [1.]\n",
            " [1.]\n",
            " [1.]\n",
            " [1.]\n",
            " [1.]\n",
            " [1.]\n",
            " [1.]\n",
            " [1.]\n",
            " [1.]\n",
            " [1.]\n",
            " [1.]\n",
            " [1.]\n",
            " [1.]\n",
            " [1.]\n",
            " [1.]\n",
            " [1.]\n",
            " [1.]\n",
            " [1.]\n",
            " [1.]\n",
            " [2.]\n",
            " [2.]\n",
            " [2.]\n",
            " [2.]\n",
            " [2.]\n",
            " [2.]\n",
            " [2.]\n",
            " [2.]\n",
            " [2.]\n",
            " [2.]\n",
            " [2.]\n",
            " [2.]\n",
            " [2.]\n",
            " [2.]\n",
            " [2.]\n",
            " [2.]\n",
            " [2.]\n",
            " [2.]\n",
            " [2.]\n",
            " [2.]\n",
            " [2.]\n",
            " [2.]\n",
            " [2.]\n",
            " [2.]\n",
            " [2.]\n",
            " [2.]\n",
            " [2.]\n",
            " [2.]\n",
            " [2.]\n",
            " [2.]\n",
            " [2.]\n",
            " [2.]\n",
            " [2.]\n",
            " [2.]\n",
            " [2.]\n",
            " [2.]\n",
            " [2.]\n",
            " [2.]\n",
            " [2.]\n",
            " [2.]\n",
            " [2.]\n",
            " [2.]\n",
            " [2.]\n",
            " [2.]\n",
            " [2.]\n",
            " [2.]\n",
            " [2.]\n",
            " [2.]\n",
            " [2.]\n",
            " [2.]\n",
            " [2.]\n",
            " [2.]\n",
            " [2.]\n",
            " [2.]\n",
            " [2.]\n",
            " [2.]\n",
            " [2.]\n",
            " [2.]\n",
            " [2.]\n",
            " [2.]\n",
            " [2.]\n",
            " [2.]\n",
            " [2.]\n",
            " [2.]\n",
            " [2.]\n",
            " [2.]\n",
            " [2.]\n",
            " [2.]\n",
            " [2.]\n",
            " [2.]\n",
            " [2.]\n",
            " [2.]\n",
            " [3.]\n",
            " [3.]\n",
            " [3.]\n",
            " [3.]\n",
            " [3.]\n",
            " [4.]\n",
            " [4.]\n",
            " [4.]\n",
            " [4.]\n",
            " [4.]\n",
            " [4.]]\n"
          ]
        }
      ]
    },
    {
      "cell_type": "code",
      "metadata": {
        "colab": {
          "base_uri": "https://localhost:8080/"
        },
        "id": "WRbm-b2UMfp0",
        "outputId": "c9517f80-3455-4174-ebf2-f3397f858999"
      },
      "source": [
        "Ytrain= keras.utils.to_categorical(YtrainIni)\n",
        "print(Ytrain)"
      ],
      "execution_count": null,
      "outputs": [
        {
          "output_type": "stream",
          "name": "stdout",
          "text": [
            "[[1. 0. 0. 0. 0.]\n",
            " [1. 0. 0. 0. 0.]\n",
            " [1. 0. 0. 0. 0.]\n",
            " [1. 0. 0. 0. 0.]\n",
            " [1. 0. 0. 0. 0.]\n",
            " [1. 0. 0. 0. 0.]\n",
            " [1. 0. 0. 0. 0.]\n",
            " [1. 0. 0. 0. 0.]\n",
            " [1. 0. 0. 0. 0.]\n",
            " [1. 0. 0. 0. 0.]\n",
            " [1. 0. 0. 0. 0.]\n",
            " [1. 0. 0. 0. 0.]\n",
            " [1. 0. 0. 0. 0.]\n",
            " [1. 0. 0. 0. 0.]\n",
            " [1. 0. 0. 0. 0.]\n",
            " [1. 0. 0. 0. 0.]\n",
            " [1. 0. 0. 0. 0.]\n",
            " [1. 0. 0. 0. 0.]\n",
            " [1. 0. 0. 0. 0.]\n",
            " [1. 0. 0. 0. 0.]\n",
            " [1. 0. 0. 0. 0.]\n",
            " [1. 0. 0. 0. 0.]\n",
            " [1. 0. 0. 0. 0.]\n",
            " [1. 0. 0. 0. 0.]\n",
            " [1. 0. 0. 0. 0.]\n",
            " [1. 0. 0. 0. 0.]\n",
            " [0. 1. 0. 0. 0.]\n",
            " [0. 1. 0. 0. 0.]\n",
            " [0. 1. 0. 0. 0.]\n",
            " [0. 1. 0. 0. 0.]\n",
            " [0. 1. 0. 0. 0.]\n",
            " [0. 1. 0. 0. 0.]\n",
            " [0. 1. 0. 0. 0.]\n",
            " [0. 1. 0. 0. 0.]\n",
            " [0. 1. 0. 0. 0.]\n",
            " [0. 1. 0. 0. 0.]\n",
            " [0. 1. 0. 0. 0.]\n",
            " [0. 1. 0. 0. 0.]\n",
            " [0. 1. 0. 0. 0.]\n",
            " [0. 1. 0. 0. 0.]\n",
            " [0. 1. 0. 0. 0.]\n",
            " [0. 1. 0. 0. 0.]\n",
            " [0. 1. 0. 0. 0.]\n",
            " [0. 1. 0. 0. 0.]\n",
            " [0. 1. 0. 0. 0.]\n",
            " [0. 1. 0. 0. 0.]\n",
            " [0. 1. 0. 0. 0.]\n",
            " [0. 1. 0. 0. 0.]\n",
            " [0. 1. 0. 0. 0.]\n",
            " [0. 1. 0. 0. 0.]\n",
            " [0. 1. 0. 0. 0.]\n",
            " [0. 1. 0. 0. 0.]\n",
            " [0. 1. 0. 0. 0.]\n",
            " [0. 1. 0. 0. 0.]\n",
            " [0. 1. 0. 0. 0.]\n",
            " [0. 1. 0. 0. 0.]\n",
            " [0. 1. 0. 0. 0.]\n",
            " [0. 1. 0. 0. 0.]\n",
            " [0. 1. 0. 0. 0.]\n",
            " [0. 1. 0. 0. 0.]\n",
            " [0. 1. 0. 0. 0.]\n",
            " [0. 1. 0. 0. 0.]\n",
            " [0. 1. 0. 0. 0.]\n",
            " [0. 0. 1. 0. 0.]\n",
            " [0. 0. 1. 0. 0.]\n",
            " [0. 0. 1. 0. 0.]\n",
            " [0. 0. 1. 0. 0.]\n",
            " [0. 0. 1. 0. 0.]\n",
            " [0. 0. 1. 0. 0.]\n",
            " [0. 0. 1. 0. 0.]\n",
            " [0. 0. 1. 0. 0.]\n",
            " [0. 0. 1. 0. 0.]\n",
            " [0. 0. 1. 0. 0.]\n",
            " [0. 0. 1. 0. 0.]\n",
            " [0. 0. 1. 0. 0.]\n",
            " [0. 0. 1. 0. 0.]\n",
            " [0. 0. 1. 0. 0.]\n",
            " [0. 0. 1. 0. 0.]\n",
            " [0. 0. 1. 0. 0.]\n",
            " [0. 0. 1. 0. 0.]\n",
            " [0. 0. 1. 0. 0.]\n",
            " [0. 0. 1. 0. 0.]\n",
            " [0. 0. 1. 0. 0.]\n",
            " [0. 0. 1. 0. 0.]\n",
            " [0. 0. 1. 0. 0.]\n",
            " [0. 0. 1. 0. 0.]\n",
            " [0. 0. 1. 0. 0.]\n",
            " [0. 0. 1. 0. 0.]\n",
            " [0. 0. 1. 0. 0.]\n",
            " [0. 0. 1. 0. 0.]\n",
            " [0. 0. 1. 0. 0.]\n",
            " [0. 0. 1. 0. 0.]\n",
            " [0. 0. 1. 0. 0.]\n",
            " [0. 0. 1. 0. 0.]\n",
            " [0. 0. 1. 0. 0.]\n",
            " [0. 0. 1. 0. 0.]\n",
            " [0. 0. 1. 0. 0.]\n",
            " [0. 0. 1. 0. 0.]\n",
            " [0. 0. 1. 0. 0.]\n",
            " [0. 0. 1. 0. 0.]\n",
            " [0. 0. 1. 0. 0.]\n",
            " [0. 0. 1. 0. 0.]\n",
            " [0. 0. 1. 0. 0.]\n",
            " [0. 0. 1. 0. 0.]\n",
            " [0. 0. 1. 0. 0.]\n",
            " [0. 0. 1. 0. 0.]\n",
            " [0. 0. 1. 0. 0.]\n",
            " [0. 0. 1. 0. 0.]\n",
            " [0. 0. 1. 0. 0.]\n",
            " [0. 0. 1. 0. 0.]\n",
            " [0. 0. 1. 0. 0.]\n",
            " [0. 0. 1. 0. 0.]\n",
            " [0. 0. 1. 0. 0.]\n",
            " [0. 0. 1. 0. 0.]\n",
            " [0. 0. 1. 0. 0.]\n",
            " [0. 0. 1. 0. 0.]\n",
            " [0. 0. 1. 0. 0.]\n",
            " [0. 0. 1. 0. 0.]\n",
            " [0. 0. 1. 0. 0.]\n",
            " [0. 0. 1. 0. 0.]\n",
            " [0. 0. 1. 0. 0.]\n",
            " [0. 0. 1. 0. 0.]\n",
            " [0. 0. 1. 0. 0.]\n",
            " [0. 0. 1. 0. 0.]\n",
            " [0. 0. 1. 0. 0.]\n",
            " [0. 0. 1. 0. 0.]\n",
            " [0. 0. 1. 0. 0.]\n",
            " [0. 0. 1. 0. 0.]\n",
            " [0. 0. 1. 0. 0.]\n",
            " [0. 0. 1. 0. 0.]\n",
            " [0. 0. 1. 0. 0.]\n",
            " [0. 0. 1. 0. 0.]\n",
            " [0. 0. 1. 0. 0.]\n",
            " [0. 0. 1. 0. 0.]\n",
            " [0. 0. 1. 0. 0.]\n",
            " [0. 0. 0. 1. 0.]\n",
            " [0. 0. 0. 1. 0.]\n",
            " [0. 0. 0. 1. 0.]\n",
            " [0. 0. 0. 1. 0.]\n",
            " [0. 0. 0. 1. 0.]\n",
            " [0. 0. 0. 0. 1.]\n",
            " [0. 0. 0. 0. 1.]\n",
            " [0. 0. 0. 0. 1.]\n",
            " [0. 0. 0. 0. 1.]\n",
            " [0. 0. 0. 0. 1.]\n",
            " [0. 0. 0. 0. 1.]]\n"
          ]
        }
      ]
    },
    {
      "cell_type": "code",
      "metadata": {
        "id": "MUOSfAuJpx3p",
        "colab": {
          "base_uri": "https://localhost:8080/",
          "height": 1000
        },
        "outputId": "724ed3af-a435-4068-cff0-559cc2f1c4b7"
      },
      "source": [
        "\n",
        "#Definición del modelo\n",
        "modelo = keras.models.Sequential()\n",
        "modelo.add(keras.layers.Conv2D(8, 3, activation=\"relu\",padding=\"same\", input_shape=(124,129,1)))\n",
        "modelo.add(keras.layers.Conv2D(16, 3, activation=\"relu\",padding=\"same\"))\n",
        "modelo.add(keras.layers.Conv2D(32, 3, activation=\"relu\",padding=\"same\"))\n",
        "modelo.add(keras.layers.Conv2D(64, 3, activation=\"relu\",padding=\"same\"))\n",
        "modelo.add(keras.layers.MaxPooling2D(pool_size=2,strides=2, padding='same'))\n",
        "modelo.add(keras.layers.Flatten())\n",
        "modelo.add(keras.layers.Dense(5, activation = 'softmax'))\n",
        "modelo.summary()\n",
        "\n",
        "keras.utils.plot_model(modelo, to_file='model_plot3.png', show_shapes=True, show_layer_names=True)"
      ],
      "execution_count": null,
      "outputs": [
        {
          "output_type": "stream",
          "name": "stdout",
          "text": [
            "Model: \"sequential\"\n",
            "_________________________________________________________________\n",
            " Layer (type)                Output Shape              Param #   \n",
            "=================================================================\n",
            " conv2d (Conv2D)             (None, 124, 129, 8)       80        \n",
            "                                                                 \n",
            " conv2d_1 (Conv2D)           (None, 124, 129, 16)      1168      \n",
            "                                                                 \n",
            " conv2d_2 (Conv2D)           (None, 124, 129, 32)      4640      \n",
            "                                                                 \n",
            " conv2d_3 (Conv2D)           (None, 124, 129, 64)      18496     \n",
            "                                                                 \n",
            " max_pooling2d (MaxPooling2D  (None, 62, 65, 64)       0         \n",
            " )                                                               \n",
            "                                                                 \n",
            " flatten (Flatten)           (None, 257920)            0         \n",
            "                                                                 \n",
            " dense (Dense)               (None, 5)                 1289605   \n",
            "                                                                 \n",
            "=================================================================\n",
            "Total params: 1,313,989\n",
            "Trainable params: 1,313,989\n",
            "Non-trainable params: 0\n",
            "_________________________________________________________________\n"
          ]
        },
        {
          "output_type": "execute_result",
          "data": {
            "image/png": "[encoded data removed]",
            "text/plain": [
              "<IPython.core.display.Image object>"
            ]
          },
          "metadata": {},
          "execution_count": 9
        }
      ]
    },
    {
      "cell_type": "code",
      "metadata": {
        "id": "EY1ddLWVdj0P",
        "colab": {
          "base_uri": "https://localhost:8080/"
        },
        "outputId": "7ce5c92c-51fa-45c7-c064-0f1d71b251f0"
      },
      "source": [
        "modelo.compile(loss='categorical_crossentropy', optimizer='adam', metrics=['accuracy'])\n",
        "history = modelo.fit(Xtrain,Ytrain, epochs=30,batch_size=None)\n"
      ],
      "execution_count": null,
      "outputs": [
        {
          "output_type": "stream",
          "name": "stdout",
          "text": [
            "Epoch 1/30\n",
            "5/5 [==============================] - 12s 2s/step - loss: 1.4259 - accuracy: 0.3836\n",
            "Epoch 2/30\n",
            "5/5 [==============================] - 14s 3s/step - loss: 0.4105 - accuracy: 0.9247\n",
            "Epoch 3/30\n",
            "5/5 [==============================] - 13s 3s/step - loss: 0.0441 - accuracy: 0.9932\n",
            "Epoch 4/30\n",
            "5/5 [==============================] - 11s 2s/step - loss: 0.0067 - accuracy: 1.0000\n",
            "Epoch 5/30\n",
            "5/5 [==============================] - 11s 2s/step - loss: 0.0010 - accuracy: 1.0000\n",
            "Epoch 6/30\n",
            "5/5 [==============================] - 11s 2s/step - loss: 6.3828e-04 - accuracy: 1.0000\n",
            "Epoch 7/30\n",
            "5/5 [==============================] - 11s 2s/step - loss: 8.0593e-05 - accuracy: 1.0000\n",
            "Epoch 8/30\n",
            "5/5 [==============================] - 13s 3s/step - loss: 3.9676e-05 - accuracy: 1.0000\n",
            "Epoch 9/30\n",
            "5/5 [==============================] - 11s 2s/step - loss: 2.4104e-05 - accuracy: 1.0000\n",
            "Epoch 10/30\n",
            "5/5 [==============================] - 11s 2s/step - loss: 1.6791e-05 - accuracy: 1.0000\n",
            "Epoch 11/30\n",
            "5/5 [==============================] - 11s 2s/step - loss: 1.2231e-05 - accuracy: 1.0000\n",
            "Epoch 12/30\n",
            "5/5 [==============================] - 11s 2s/step - loss: 1.0278e-05 - accuracy: 1.0000\n",
            "Epoch 13/30\n",
            "5/5 [==============================] - 11s 2s/step - loss: 8.8319e-06 - accuracy: 1.0000\n",
            "Epoch 14/30\n",
            "5/5 [==============================] - 13s 3s/step - loss: 7.7217e-06 - accuracy: 1.0000\n",
            "Epoch 15/30\n",
            "5/5 [==============================] - 11s 2s/step - loss: 7.1551e-06 - accuracy: 1.0000\n",
            "Epoch 16/30\n",
            "5/5 [==============================] - 11s 2s/step - loss: 6.4882e-06 - accuracy: 1.0000\n",
            "Epoch 17/30\n",
            "5/5 [==============================] - 11s 2s/step - loss: 6.0743e-06 - accuracy: 1.0000\n",
            "Epoch 18/30\n",
            "5/5 [==============================] - 11s 2s/step - loss: 5.7494e-06 - accuracy: 1.0000\n",
            "Epoch 19/30\n",
            "5/5 [==============================] - 11s 2s/step - loss: 5.3869e-06 - accuracy: 1.0000\n",
            "Epoch 20/30\n",
            "5/5 [==============================] - 11s 2s/step - loss: 5.1012e-06 - accuracy: 1.0000\n",
            "Epoch 21/30\n",
            "5/5 [==============================] - 13s 3s/step - loss: 4.8971e-06 - accuracy: 1.0000\n",
            "Epoch 22/30\n",
            "5/5 [==============================] - 11s 2s/step - loss: 4.6399e-06 - accuracy: 1.0000\n",
            "Epoch 23/30\n",
            "5/5 [==============================] - 11s 2s/step - loss: 4.4480e-06 - accuracy: 1.0000\n",
            "Epoch 24/30\n",
            "5/5 [==============================] - 11s 2s/step - loss: 4.2252e-06 - accuracy: 1.0000\n",
            "Epoch 25/30\n",
            "5/5 [==============================] - 11s 2s/step - loss: 4.0211e-06 - accuracy: 1.0000\n",
            "Epoch 26/30\n",
            "5/5 [==============================] - 11s 2s/step - loss: 3.8774e-06 - accuracy: 1.0000\n",
            "Epoch 27/30\n",
            "5/5 [==============================] - 13s 3s/step - loss: 3.7182e-06 - accuracy: 1.0000\n",
            "Epoch 28/30\n",
            "5/5 [==============================] - 11s 2s/step - loss: 3.5892e-06 - accuracy: 1.0000\n",
            "Epoch 29/30\n",
            "5/5 [==============================] - 11s 2s/step - loss: 3.4161e-06 - accuracy: 1.0000\n",
            "Epoch 30/30\n",
            "5/5 [==============================] - 11s 2s/step - loss: 3.2977e-06 - accuracy: 1.0000\n"
          ]
        }
      ]
    },
    {
      "cell_type": "code",
      "metadata": {
        "id": "f8dxBF1yOuEv",
        "colab": {
          "base_uri": "https://localhost:8080/",
          "height": 300
        },
        "outputId": "9fb88c26-021d-433d-d2ed-eb42618fff69"
      },
      "source": [
        "plt.plot(history.history[\"loss\"],'b')\n",
        "modelo.evaluate(Xtrain, Ytrain)"
      ],
      "execution_count": null,
      "outputs": [
        {
          "output_type": "stream",
          "name": "stdout",
          "text": [
            "5/5 [==============================] - 3s 514ms/step - loss: 3.2161e-06 - accuracy: 1.0000\n"
          ]
        },
        {
          "output_type": "execute_result",
          "data": {
            "text/plain": [
              "[3.216080813217559e-06, 1.0]"
            ]
          },
          "metadata": {},
          "execution_count": 11
        },
        {
          "output_type": "display_data",
          "data": {
            "text/plain": [
              "<Figure size 432x288 with 1 Axes>"
            ],
            "image/png": "[encoded data removed]"
          },
          "metadata": {
            "needs_background": "light"
          }
        }
      ]
    },
    {
      "cell_type": "code",
      "source": [
        "# Se cargan los diferentes archivos *.json que se van a usar en el proceso\n",
        "# de testeo\n",
        "\n",
        "import os\n",
        "directory = '/content/gdrive/MyDrive/Colab Notebooks/Datos/Comandos1/testing/'\n",
        "files = os.listdir(directory)\n",
        "files.sort() \n",
        "\n",
        "cantidadFiles = len(files)\n",
        "\n",
        "DatosVal=np.zeros((cantidadFiles,124,129))\n",
        "i = 0\n",
        "for file in files:\n",
        "  RutaFile=directory + file\n",
        "  wave = load_wav_16k_mono(RutaFile)\n",
        "  espectrograma= preprocess(wave)\n",
        "  DatosVal[i,:,:]=espectrograma\n",
        "  i+=1\n",
        "print(DatosVal.shape)\n",
        "XVal=tf.expand_dims(DatosVal, axis=3)\n",
        "print(XVal.shape)"
      ],
      "metadata": {
        "colab": {
          "base_uri": "https://localhost:8080/"
        },
        "id": "i6dkyUPYTWyJ",
        "outputId": "4c8533b8-e376-42e3-c49a-6206d46c79e3"
      },
      "execution_count": null,
      "outputs": [
        {
          "output_type": "stream",
          "name": "stdout",
          "text": [
            "(38, 124, 129)\n",
            "(38, 124, 129, 1)\n"
          ]
        }
      ]
    },
    {
      "cell_type": "code",
      "source": [
        "YValIni=np.zeros((38,1))\n",
        "\n",
        "for i in range(6):\n",
        "    YValIni[i]=0\n",
        "for i in range(6,16):\n",
        "    YValIni[i]=1\n",
        "for i in range(16,34):\n",
        "    YValIni[i]=2\n",
        "for i in range(34,36):\n",
        "    YValIni[i]=3\n",
        "for i in range(36,38):\n",
        "    YValIni[i]=4     \n",
        "\n",
        "print(YValIni)\n",
        "YVal= keras.utils.to_categorical(YValIni)\n",
        "\n",
        "print(YVal)"
      ],
      "metadata": {
        "colab": {
          "base_uri": "https://localhost:8080/"
        },
        "id": "mTx3sWn29D17",
        "outputId": "2cf5caf3-233f-4ab2-d649-ae2ae6a73b73"
      },
      "execution_count": null,
      "outputs": [
        {
          "output_type": "stream",
          "name": "stdout",
          "text": [
            "[[0.]\n",
            " [0.]\n",
            " [0.]\n",
            " [0.]\n",
            " [0.]\n",
            " [0.]\n",
            " [1.]\n",
            " [1.]\n",
            " [1.]\n",
            " [1.]\n",
            " [1.]\n",
            " [1.]\n",
            " [1.]\n",
            " [1.]\n",
            " [1.]\n",
            " [1.]\n",
            " [2.]\n",
            " [2.]\n",
            " [2.]\n",
            " [2.]\n",
            " [2.]\n",
            " [2.]\n",
            " [2.]\n",
            " [2.]\n",
            " [2.]\n",
            " [2.]\n",
            " [2.]\n",
            " [2.]\n",
            " [2.]\n",
            " [2.]\n",
            " [2.]\n",
            " [2.]\n",
            " [2.]\n",
            " [2.]\n",
            " [3.]\n",
            " [3.]\n",
            " [4.]\n",
            " [4.]]\n",
            "[[1. 0. 0. 0. 0.]\n",
            " [1. 0. 0. 0. 0.]\n",
            " [1. 0. 0. 0. 0.]\n",
            " [1. 0. 0. 0. 0.]\n",
            " [1. 0. 0. 0. 0.]\n",
            " [1. 0. 0. 0. 0.]\n",
            " [0. 1. 0. 0. 0.]\n",
            " [0. 1. 0. 0. 0.]\n",
            " [0. 1. 0. 0. 0.]\n",
            " [0. 1. 0. 0. 0.]\n",
            " [0. 1. 0. 0. 0.]\n",
            " [0. 1. 0. 0. 0.]\n",
            " [0. 1. 0. 0. 0.]\n",
            " [0. 1. 0. 0. 0.]\n",
            " [0. 1. 0. 0. 0.]\n",
            " [0. 1. 0. 0. 0.]\n",
            " [0. 0. 1. 0. 0.]\n",
            " [0. 0. 1. 0. 0.]\n",
            " [0. 0. 1. 0. 0.]\n",
            " [0. 0. 1. 0. 0.]\n",
            " [0. 0. 1. 0. 0.]\n",
            " [0. 0. 1. 0. 0.]\n",
            " [0. 0. 1. 0. 0.]\n",
            " [0. 0. 1. 0. 0.]\n",
            " [0. 0. 1. 0. 0.]\n",
            " [0. 0. 1. 0. 0.]\n",
            " [0. 0. 1. 0. 0.]\n",
            " [0. 0. 1. 0. 0.]\n",
            " [0. 0. 1. 0. 0.]\n",
            " [0. 0. 1. 0. 0.]\n",
            " [0. 0. 1. 0. 0.]\n",
            " [0. 0. 1. 0. 0.]\n",
            " [0. 0. 1. 0. 0.]\n",
            " [0. 0. 1. 0. 0.]\n",
            " [0. 0. 0. 1. 0.]\n",
            " [0. 0. 0. 1. 0.]\n",
            " [0. 0. 0. 0. 1.]\n",
            " [0. 0. 0. 0. 1.]]\n"
          ]
        }
      ]
    },
    {
      "cell_type": "code",
      "source": [
        "modelo.evaluate(XVal, YVal)"
      ],
      "metadata": {
        "colab": {
          "base_uri": "https://localhost:8080/"
        },
        "id": "zvTh1D-n9Nij",
        "outputId": "9c6aa83e-54e2-4ea3-c22e-1788b45a64ea"
      },
      "execution_count": null,
      "outputs": [
        {
          "output_type": "stream",
          "name": "stdout",
          "text": [
            "2/2 [==============================] - 1s 124ms/step - loss: 0.0011 - accuracy: 1.0000\n"
          ]
        },
        {
          "output_type": "execute_result",
          "data": {
            "text/plain": [
              "[0.0011327294632792473, 1.0]"
            ]
          },
          "metadata": {},
          "execution_count": 17
        }
      ]
    },
    {
      "cell_type": "code",
      "source": [
        "from sklearn.metrics import classification_report, confusion_matrix\n",
        "import seaborn as sns\n",
        "\n",
        "ypredic=modelo.predict(XVal)\n",
        "\n",
        "y_test_class = np.argmax(YVal,axis=1) \n",
        "y_pred_class = np.argmax(ypredic,axis=1) \n",
        "\n",
        "#Accuracy of the predicted values\n",
        "print(classification_report(y_test_class, y_pred_class)) # Precision , Recall, F1-Score & Support\n",
        "cm = confusion_matrix(y_test_class, y_pred_class)\n",
        "print(cm)\n",
        "# visualize the confusion matrix in a heat map\n",
        "df_cm = pd.DataFrame(cm)\n",
        "heatmap = sns.heatmap(df_cm, annot=True, fmt=\"d\")"
      ],
      "metadata": {
        "colab": {
          "base_uri": "https://localhost:8080/",
          "height": 581
        },
        "id": "zs2xOoeP8PEp",
        "outputId": "f0fcdb7b-6b52-4c7c-9637-62b967f1b5e5"
      },
      "execution_count": null,
      "outputs": [
        {
          "output_type": "stream",
          "name": "stdout",
          "text": [
            "2/2 [==============================] - 1s 132ms/step\n",
            "              precision    recall  f1-score   support\n",
            "\n",
            "           0       1.00      1.00      1.00         6\n",
            "           1       1.00      1.00      1.00        10\n",
            "           2       1.00      1.00      1.00        18\n",
            "           3       1.00      1.00      1.00         2\n",
            "           4       1.00      1.00      1.00         2\n",
            "\n",
            "    accuracy                           1.00        38\n",
            "   macro avg       1.00      1.00      1.00        38\n",
            "weighted avg       1.00      1.00      1.00        38\n",
            "\n",
            "[[ 6  0  0  0  0]\n",
            " [ 0 10  0  0  0]\n",
            " [ 0  0 18  0  0]\n",
            " [ 0  0  0  2  0]\n",
            " [ 0  0  0  0  2]]\n"
          ]
        },
        {
          "output_type": "display_data",
          "data": {
            "text/plain": [
              "<Figure size 432x288 with 2 Axes>"
            ],
            "image/png": "[encoded data removed]"
          },
          "metadata": {
            "needs_background": "light"
          }
        }
      ]
    },
    {
      "cell_type": "code",
      "source": [
        "!pwd"
      ],
      "metadata": {
        "colab": {
          "base_uri": "https://localhost:8080/"
        },
        "id": "musgFWv47lbY",
        "outputId": "c3d5f220-054a-4e60-a75b-a1abf4c4f938"
      },
      "execution_count": null,
      "outputs": [
        {
          "output_type": "stream",
          "name": "stdout",
          "text": [
            "/content\n"
          ]
        }
      ]
    },
    {
      "cell_type": "code",
      "source": [
        "converter = tf.lite.TFLiteConverter.from_keras_model(modelo)\n",
        "tflite_model = converter.convert()\n",
        "\n",
        "\n",
        "# Guardar el modelo en el disco\n",
        "open(\"gesture_model.tflite\", \"wb\").write(tflite_model)\n",
        "  \n",
        "import os\n",
        "basic_model_size = os.path.getsize(\"gesture_model.tflite\")\n",
        "print(\"Model is %d bytes\" % basic_model_size)"
      ],
      "metadata": {
        "colab": {
          "base_uri": "https://localhost:8080/"
        },
        "id": "E1VmgytF7oW9",
        "outputId": "b8cba44a-55f7-4f1e-ce50-d5acb980c17b"
      },
      "execution_count": null,
      "outputs": [
        {
          "output_type": "stream",
          "name": "stderr",
          "text": [
            "WARNING:absl:Found untraced functions such as _jit_compiled_convolution_op, _jit_compiled_convolution_op, _jit_compiled_convolution_op, _jit_compiled_convolution_op while saving (showing 4 of 4). These functions will not be directly callable after loading.\n"
          ]
        },
        {
          "output_type": "stream",
          "name": "stdout",
          "text": [
            "Model is 5259600 bytes\n"
          ]
        }
      ]
    },
    {
      "cell_type": "code",
      "source": [
        "#La siguiente celda crea una matriz de bytes constantes que contiene el modelo TFlite. \n",
        "#Importarlo como una pestaña con el siguiente código.\n",
        "\n",
        "!echo \"const unsigned char model[] = {\" > /content/model.h\n",
        "!cat gesture_model.tflite | xxd -i      >> /content/model.h\n",
        "!echo \"};\"                              >> /content/model.h\n",
        "\n",
        "import os\n",
        "model_h_size = os.path.getsize(\"model.h\")\n",
        "print(f\"Header file, model.h, is {model_h_size:,} bytes.\")\n",
        "print(\"\\nAbre el panel lateral (refrecar si es necesario). Doble click en model.h para descargar el archivo.\")"
      ],
      "metadata": {
        "colab": {
          "base_uri": "https://localhost:8080/"
        },
        "id": "ObAmVPVi7yKv",
        "outputId": "5601c4b3-8647-4703-9463-9019744b5005"
      },
      "execution_count": null,
      "outputs": [
        {
          "output_type": "stream",
          "name": "stdout",
          "text": [
            "Header file, model.h, is 32,434,234 bytes.\n",
            "\n",
            "Abre el panel lateral (refrecar si es necesario). Doble click en model.h para descargar el archivo.\n"
          ]
        }
      ]
    }
  ]
}